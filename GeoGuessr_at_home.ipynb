{
 "cells": [
  {
   "cell_type": "markdown",
   "metadata": {},
   "source": [
    "Linear Regression model to estimate earthquake latitude given depth, magnitude, and other related features.\n",
    "\n",
    "By Aanchel"
   ]
  },
  {
   "cell_type": "code",
   "execution_count": 923,
   "metadata": {},
   "outputs": [],
   "source": [
    "import matplotlib.pyplot as plt\n",
    "import pandas as pd\n",
    "import numpy as np\n",
    "from sklearn.model_selection import train_test_split\n",
    "from sklearn.linear_model import LinearRegression\n",
    "from sklearn.metrics import mean_squared_error\n",
    "from sklearn.metrics import r2_score\n"
   ]
  },
  {
   "cell_type": "code",
   "execution_count": 924,
   "metadata": {},
   "outputs": [
    {
     "name": "stdout",
     "output_type": "stream",
     "text": [
      "<class 'pandas.core.frame.DataFrame'>\n",
      "RangeIndex: 23412 entries, 0 to 23411\n",
      "Data columns (total 21 columns):\n",
      " #   Column                      Non-Null Count  Dtype  \n",
      "---  ------                      --------------  -----  \n",
      " 0   Date                        23412 non-null  object \n",
      " 1   Time                        23412 non-null  object \n",
      " 2   Latitude                    23412 non-null  float64\n",
      " 3   Longitude                   23412 non-null  float64\n",
      " 4   Type                        23412 non-null  object \n",
      " 5   Depth                       23412 non-null  float64\n",
      " 6   Depth Error                 4461 non-null   float64\n",
      " 7   Depth Seismic Stations      7097 non-null   float64\n",
      " 8   Magnitude                   23412 non-null  float64\n",
      " 9   Magnitude Type              23409 non-null  object \n",
      " 10  Magnitude Error             327 non-null    float64\n",
      " 11  Magnitude Seismic Stations  2564 non-null   float64\n",
      " 12  Azimuthal Gap               7299 non-null   float64\n",
      " 13  Horizontal Distance         1604 non-null   float64\n",
      " 14  Horizontal Error            1156 non-null   float64\n",
      " 15  Root Mean Square            17352 non-null  float64\n",
      " 16  ID                          23412 non-null  object \n",
      " 17  Source                      23412 non-null  object \n",
      " 18  Location Source             23412 non-null  object \n",
      " 19  Magnitude Source            23412 non-null  object \n",
      " 20  Status                      23412 non-null  object \n",
      "dtypes: float64(12), object(9)\n",
      "memory usage: 3.8+ MB\n"
     ]
    }
   ],
   "source": [
    "# import data\n",
    "data_open = open('database.csv')\n",
    "data = pd.read_csv(data_open, delimiter=',')\n",
    "data.shape\n",
    "data.info()"
   ]
  },
  {
   "cell_type": "code",
   "execution_count": 925,
   "metadata": {},
   "outputs": [
    {
     "name": "stdout",
     "output_type": "stream",
     "text": [
      "<class 'pandas.core.frame.DataFrame'>\n",
      "Int64Index: 3868 entries, 489 to 23408\n",
      "Data columns (total 6 columns):\n",
      " #   Column                  Non-Null Count  Dtype  \n",
      "---  ------                  --------------  -----  \n",
      " 0   Latitude                3868 non-null   float64\n",
      " 1   Longitude               3868 non-null   float64\n",
      " 2   Depth                   3868 non-null   float64\n",
      " 3   Depth Seismic Stations  3868 non-null   float64\n",
      " 4   Magnitude               3868 non-null   float64\n",
      " 5   Magnitude Type          3868 non-null   object \n",
      "dtypes: float64(5), object(1)\n",
      "memory usage: 211.5+ KB\n"
     ]
    }
   ],
   "source": [
    "# clean data\n",
    "cols = ['Date', 'Time', 'Horizontal Distance', 'Horizontal Error', 'Root Mean Square', 'ID', 'Source',\n",
    "        'Location Source', 'Magnitude Source', 'Status', 'Azimuthal Gap', 'Magnitude Error', \n",
    "        'Depth Error', 'Magnitude Seismic Stations']\n",
    "data = data.drop(cols, axis=1)\n",
    "data = data.drop(data.index[data['Type'] != 'Earthquake'])\n",
    "data = data.drop(['Type'], axis=1)\n",
    "data = data.drop(data.index[data['Depth'] < 0])\n",
    "data = data.drop(data.index[data['Depth'] > 30])\n",
    "data = data.dropna()\n",
    "data.info()"
   ]
  },
  {
   "cell_type": "code",
   "execution_count": 926,
   "metadata": {},
   "outputs": [
    {
     "data": {
      "text/html": [
       "<div>\n",
       "<style scoped>\n",
       "    .dataframe tbody tr th:only-of-type {\n",
       "        vertical-align: middle;\n",
       "    }\n",
       "\n",
       "    .dataframe tbody tr th {\n",
       "        vertical-align: top;\n",
       "    }\n",
       "\n",
       "    .dataframe thead th {\n",
       "        text-align: right;\n",
       "    }\n",
       "</style>\n",
       "<table border=\"1\" class=\"dataframe\">\n",
       "  <thead>\n",
       "    <tr style=\"text-align: right;\">\n",
       "      <th></th>\n",
       "      <th>Latitude</th>\n",
       "      <th>Longitude</th>\n",
       "      <th>Depth</th>\n",
       "      <th>Depth Seismic Stations</th>\n",
       "      <th>Magnitude</th>\n",
       "    </tr>\n",
       "  </thead>\n",
       "  <tbody>\n",
       "    <tr>\n",
       "      <th>count</th>\n",
       "      <td>3868.000000</td>\n",
       "      <td>3868.000000</td>\n",
       "      <td>3868.000000</td>\n",
       "      <td>3868.000000</td>\n",
       "      <td>3868.000000</td>\n",
       "    </tr>\n",
       "    <tr>\n",
       "      <th>mean</th>\n",
       "      <td>1.051775</td>\n",
       "      <td>32.626899</td>\n",
       "      <td>13.824810</td>\n",
       "      <td>260.060755</td>\n",
       "      <td>5.890189</td>\n",
       "    </tr>\n",
       "    <tr>\n",
       "      <th>std</th>\n",
       "      <td>32.130665</td>\n",
       "      <td>119.963068</td>\n",
       "      <td>6.566981</td>\n",
       "      <td>161.834592</td>\n",
       "      <td>0.423501</td>\n",
       "    </tr>\n",
       "    <tr>\n",
       "      <th>min</th>\n",
       "      <td>-77.080000</td>\n",
       "      <td>-179.971000</td>\n",
       "      <td>0.000000</td>\n",
       "      <td>0.000000</td>\n",
       "      <td>5.500000</td>\n",
       "    </tr>\n",
       "    <tr>\n",
       "      <th>25%</th>\n",
       "      <td>-19.993250</td>\n",
       "      <td>-84.311500</td>\n",
       "      <td>10.000000</td>\n",
       "      <td>132.000000</td>\n",
       "      <td>5.600000</td>\n",
       "    </tr>\n",
       "    <tr>\n",
       "      <th>50%</th>\n",
       "      <td>-1.078500</td>\n",
       "      <td>91.781500</td>\n",
       "      <td>10.000000</td>\n",
       "      <td>238.000000</td>\n",
       "      <td>5.800000</td>\n",
       "    </tr>\n",
       "    <tr>\n",
       "      <th>75%</th>\n",
       "      <td>29.620500</td>\n",
       "      <td>141.573500</td>\n",
       "      <td>18.000000</td>\n",
       "      <td>365.000000</td>\n",
       "      <td>6.100000</td>\n",
       "    </tr>\n",
       "    <tr>\n",
       "      <th>max</th>\n",
       "      <td>86.005000</td>\n",
       "      <td>179.911000</td>\n",
       "      <td>30.000000</td>\n",
       "      <td>885.000000</td>\n",
       "      <td>9.100000</td>\n",
       "    </tr>\n",
       "  </tbody>\n",
       "</table>\n",
       "</div>"
      ],
      "text/plain": [
       "          Latitude    Longitude        Depth  Depth Seismic Stations  \\\n",
       "count  3868.000000  3868.000000  3868.000000             3868.000000   \n",
       "mean      1.051775    32.626899    13.824810              260.060755   \n",
       "std      32.130665   119.963068     6.566981              161.834592   \n",
       "min     -77.080000  -179.971000     0.000000                0.000000   \n",
       "25%     -19.993250   -84.311500    10.000000              132.000000   \n",
       "50%      -1.078500    91.781500    10.000000              238.000000   \n",
       "75%      29.620500   141.573500    18.000000              365.000000   \n",
       "max      86.005000   179.911000    30.000000              885.000000   \n",
       "\n",
       "         Magnitude  \n",
       "count  3868.000000  \n",
       "mean      5.890189  \n",
       "std       0.423501  \n",
       "min       5.500000  \n",
       "25%       5.600000  \n",
       "50%       5.800000  \n",
       "75%       6.100000  \n",
       "max       9.100000  "
      ]
     },
     "execution_count": 926,
     "metadata": {},
     "output_type": "execute_result"
    },
    {
     "data": {
      "image/png": "[encoded data removed]",
      "text/plain": [
       "<Figure size 720x720 with 6 Axes>"
      ]
     },
     "metadata": {
      "needs_background": "light"
     },
     "output_type": "display_data"
    }
   ],
   "source": [
    "# View data\n",
    "data.hist(figsize=(10,10))\n",
    "data.describe()"
   ]
  },
  {
   "cell_type": "code",
   "execution_count": 927,
   "metadata": {},
   "outputs": [
    {
     "data": {
      "text/html": [
       "<div>\n",
       "<style scoped>\n",
       "    .dataframe tbody tr th:only-of-type {\n",
       "        vertical-align: middle;\n",
       "    }\n",
       "\n",
       "    .dataframe tbody tr th {\n",
       "        vertical-align: top;\n",
       "    }\n",
       "\n",
       "    .dataframe thead th {\n",
       "        text-align: right;\n",
       "    }\n",
       "</style>\n",
       "<table border=\"1\" class=\"dataframe\">\n",
       "  <thead>\n",
       "    <tr style=\"text-align: right;\">\n",
       "      <th></th>\n",
       "      <th>Latitude</th>\n",
       "      <th>Longitude</th>\n",
       "      <th>Depth</th>\n",
       "      <th>Depth Seismic Stations</th>\n",
       "      <th>Magnitude</th>\n",
       "    </tr>\n",
       "  </thead>\n",
       "  <tbody>\n",
       "    <tr>\n",
       "      <th>count</th>\n",
       "      <td>3834.000000</td>\n",
       "      <td>3834.000000</td>\n",
       "      <td>3834.000000</td>\n",
       "      <td>3834.000000</td>\n",
       "      <td>3834.000000</td>\n",
       "    </tr>\n",
       "    <tr>\n",
       "      <th>mean</th>\n",
       "      <td>0.994499</td>\n",
       "      <td>32.267585</td>\n",
       "      <td>13.782672</td>\n",
       "      <td>257.894888</td>\n",
       "      <td>5.871661</td>\n",
       "    </tr>\n",
       "    <tr>\n",
       "      <th>std</th>\n",
       "      <td>32.132539</td>\n",
       "      <td>120.025764</td>\n",
       "      <td>6.545618</td>\n",
       "      <td>160.358243</td>\n",
       "      <td>0.374571</td>\n",
       "    </tr>\n",
       "    <tr>\n",
       "      <th>min</th>\n",
       "      <td>-77.080000</td>\n",
       "      <td>-179.971000</td>\n",
       "      <td>0.000000</td>\n",
       "      <td>0.000000</td>\n",
       "      <td>5.500000</td>\n",
       "    </tr>\n",
       "    <tr>\n",
       "      <th>25%</th>\n",
       "      <td>-20.198250</td>\n",
       "      <td>-84.793500</td>\n",
       "      <td>10.000000</td>\n",
       "      <td>131.000000</td>\n",
       "      <td>5.600000</td>\n",
       "    </tr>\n",
       "    <tr>\n",
       "      <th>50%</th>\n",
       "      <td>-1.118500</td>\n",
       "      <td>91.711500</td>\n",
       "      <td>10.000000</td>\n",
       "      <td>236.000000</td>\n",
       "      <td>5.800000</td>\n",
       "    </tr>\n",
       "    <tr>\n",
       "      <th>75%</th>\n",
       "      <td>29.367500</td>\n",
       "      <td>141.552000</td>\n",
       "      <td>17.675000</td>\n",
       "      <td>362.750000</td>\n",
       "      <td>6.000000</td>\n",
       "    </tr>\n",
       "    <tr>\n",
       "      <th>max</th>\n",
       "      <td>86.005000</td>\n",
       "      <td>179.911000</td>\n",
       "      <td>30.000000</td>\n",
       "      <td>885.000000</td>\n",
       "      <td>7.500000</td>\n",
       "    </tr>\n",
       "  </tbody>\n",
       "</table>\n",
       "</div>"
      ],
      "text/plain": [
       "          Latitude    Longitude        Depth  Depth Seismic Stations  \\\n",
       "count  3834.000000  3834.000000  3834.000000             3834.000000   \n",
       "mean      0.994499    32.267585    13.782672              257.894888   \n",
       "std      32.132539   120.025764     6.545618              160.358243   \n",
       "min     -77.080000  -179.971000     0.000000                0.000000   \n",
       "25%     -20.198250   -84.793500    10.000000              131.000000   \n",
       "50%      -1.118500    91.711500    10.000000              236.000000   \n",
       "75%      29.367500   141.552000    17.675000              362.750000   \n",
       "max      86.005000   179.911000    30.000000              885.000000   \n",
       "\n",
       "         Magnitude  \n",
       "count  3834.000000  \n",
       "mean      5.871661  \n",
       "std       0.374571  \n",
       "min       5.500000  \n",
       "25%       5.600000  \n",
       "50%       5.800000  \n",
       "75%       6.000000  \n",
       "max       7.500000  "
      ]
     },
     "execution_count": 927,
     "metadata": {},
     "output_type": "execute_result"
    }
   ],
   "source": [
    "# clean up outliers\n",
    "data['DepthZ'] = (data['Depth'] - data['Depth'].mean()) / data['Depth'].std()\n",
    "data = data.drop(data.index[(data['DepthZ'] > 4) | (data['DepthZ'] < -4)])\n",
    "data = data.drop(columns=['DepthZ'])\n",
    "\n",
    "data['LatZ'] = (data['Latitude'] - data['Latitude'].mean()) / data['Latitude'].std()\n",
    "data = data.drop(data.index[(data['LatZ'] > 4) | (data['LatZ'] < -4)])\n",
    "data = data.drop(columns=['LatZ'])\n",
    "\n",
    "data['LonZ'] = (data['Longitude'] - data['Longitude'].mean()) / data['Longitude'].std()\n",
    "data = data.drop(data.index[(data['LonZ'] > 4) | (data['LonZ'] < -4)])\n",
    "data = data.drop(columns=['LonZ'])\n",
    "\n",
    "data['MagZ'] = (data['Magnitude'] - data['Magnitude'].mean()) / data['Magnitude'].std()\n",
    "data = data.drop(data.index[(data['MagZ'] > 4) | (data['MagZ'] < -4)])\n",
    "data = data.drop(columns=['MagZ'])\n",
    "\n",
    "data['Depth Seismic StationsZ'] = (data['Depth Seismic Stations'] - data['Depth Seismic Stations'].mean()) / data['Depth Seismic Stations'].std()\n",
    "data = data.drop(data.index[(data['Depth Seismic StationsZ'] > 4) | (data['Depth Seismic StationsZ'] < -4)])\n",
    "data = data.drop(columns=['Depth Seismic StationsZ'])\n",
    "\n",
    "data.describe()"
   ]
  },
  {
   "cell_type": "code",
   "execution_count": 928,
   "metadata": {},
   "outputs": [
    {
     "name": "stdout",
     "output_type": "stream",
     "text": [
      "<class 'pandas.core.frame.DataFrame'>\n",
      "Int64Index: 3630 entries, 890 to 23408\n",
      "Data columns (total 15 columns):\n",
      " #   Column                  Non-Null Count  Dtype  \n",
      "---  ------                  --------------  -----  \n",
      " 0   Latitude                3630 non-null   float64\n",
      " 1   Longitude               3630 non-null   float64\n",
      " 2   Depth                   3630 non-null   float64\n",
      " 3   Depth Seismic Stations  3630 non-null   float64\n",
      " 4   Magnitude               3630 non-null   float64\n",
      " 5   Type_MB                 3630 non-null   uint8  \n",
      " 6   Type_MD                 3630 non-null   uint8  \n",
      " 7   Type_MH                 3630 non-null   uint8  \n",
      " 8   Type_ML                 3630 non-null   uint8  \n",
      " 9   Type_MS                 3630 non-null   uint8  \n",
      " 10  Type_MW                 3630 non-null   uint8  \n",
      " 11  Type_MWB                3630 non-null   uint8  \n",
      " 12  Type_MWC                3630 non-null   uint8  \n",
      " 13  Type_MWR                3630 non-null   uint8  \n",
      " 14  Type_MWW                3630 non-null   uint8  \n",
      "dtypes: float64(5), uint8(10)\n",
      "memory usage: 205.6 KB\n"
     ]
    },
    {
     "data": {
      "text/plain": [
       "array([[<AxesSubplot:title={'center':'Latitude'}>,\n",
       "        <AxesSubplot:title={'center':'Longitude'}>,\n",
       "        <AxesSubplot:title={'center':'Depth'}>,\n",
       "        <AxesSubplot:title={'center':'Depth Seismic Stations'}>],\n",
       "       [<AxesSubplot:title={'center':'Magnitude'}>,\n",
       "        <AxesSubplot:title={'center':'Type_MB'}>,\n",
       "        <AxesSubplot:title={'center':'Type_MD'}>,\n",
       "        <AxesSubplot:title={'center':'Type_MH'}>],\n",
       "       [<AxesSubplot:title={'center':'Type_ML'}>,\n",
       "        <AxesSubplot:title={'center':'Type_MS'}>,\n",
       "        <AxesSubplot:title={'center':'Type_MW'}>,\n",
       "        <AxesSubplot:title={'center':'Type_MWB'}>],\n",
       "       [<AxesSubplot:title={'center':'Type_MWC'}>,\n",
       "        <AxesSubplot:title={'center':'Type_MWR'}>,\n",
       "        <AxesSubplot:title={'center':'Type_MWW'}>, <AxesSubplot:>]],\n",
       "      dtype=object)"
      ]
     },
     "execution_count": 928,
     "metadata": {},
     "output_type": "execute_result"
    },
    {
     "data": {
      "image/png": "[encoded data removed]",
      "text/plain": [
       "<Figure size 720x720 with 16 Axes>"
      ]
     },
     "metadata": {
      "needs_background": "light"
     },
     "output_type": "display_data"
    }
   ],
   "source": [
    "# one hot encode Magnitude Type\n",
    "data = pd.concat([data, pd.get_dummies(data['Magnitude Type'], prefix='Type')],axis=1)\n",
    "data = data.drop(columns=['Magnitude Type'])\n",
    "\n",
    "# even out data for Depth < 10\n",
    "data = data.drop(data[data['Depth'] < 10].sample(frac=.5).index)\n",
    "\n",
    "data.info()\n",
    "data.hist(figsize=(10,10))"
   ]
  },
  {
   "cell_type": "code",
   "execution_count": 929,
   "metadata": {},
   "outputs": [],
   "source": [
    "# split data into train and test set\n",
    "data_copy = data\n",
    "y = data['Latitude']\n",
    "X = data.drop(columns=['Latitude'])\n",
    "\n",
    "y = y.values\n",
    "X = X.values\n",
    "\n",
    "X_train, X_test, y_train, y_test = train_test_split(X, y, test_size = 0.2, random_state=144)"
   ]
  },
  {
   "cell_type": "code",
   "execution_count": 930,
   "metadata": {},
   "outputs": [
    {
     "name": "stdout",
     "output_type": "stream",
     "text": [
      "Training Accuracy:  0.45760206488402977\n",
      "Test Accuracy:  0.47690540394746417\n",
      "MSE 572.9794895618942\n",
      "R2 0.47690540394746417\n"
     ]
    },
    {
     "data": {
      "image/png": "[encoded data removed]",
      "text/plain": [
       "<Figure size 432x288 with 1 Axes>"
      ]
     },
     "metadata": {
      "needs_background": "light"
     },
     "output_type": "display_data"
    }
   ],
   "source": [
    "# fit regressor\n",
    "regressor = LinearRegression()\n",
    "regressor.fit(X_train, y_train)\n",
    "\n",
    "# generate predictions\n",
    "y_predict = regressor.predict(X_test)\n",
    "\n",
    "# graph comparison of train and test\n",
    "plt.scatter(y_predict, y_test, color='black')\n",
    "x = np.linspace(-40, 80)\n",
    "plt.plot(x, x, color='red')\n",
    "\n",
    "# get accuracies\n",
    "print(\"Training Accuracy: \", regressor.score(X_train, y_train))\n",
    "print(\"Test Accuracy: \", regressor.score(X_test, y_test))\n",
    "\n",
    "# get metrics\n",
    "print('MSE', mean_squared_error(y_test, y_predict))\n",
    "print('R2', r2_score(y_test, y_predict))"
   ]
  },
  {
   "cell_type": "code",
   "execution_count": 931,
   "metadata": {},
   "outputs": [
    {
     "name": "stdout",
     "output_type": "stream",
     "text": [
      "Training Accuracy:  0.4965218587406858\n",
      "Test Accuracy:  0.5097721765017721\n",
      "MSE 536.9783786656484\n",
      "R2 0.5097721765017721\n"
     ]
    },
    {
     "data": {
      "image/png": "[encoded data removed]",
      "text/plain": [
       "<Figure size 432x288 with 1 Axes>"
      ]
     },
     "metadata": {
      "needs_background": "light"
     },
     "output_type": "display_data"
    }
   ],
   "source": [
    "# polynomial regression\n",
    "from sklearn.preprocessing import PolynomialFeatures\n",
    "\n",
    "poly = PolynomialFeatures(2)\n",
    "X_train_poly = poly.fit_transform(X_train)\n",
    "X_test_poly = poly.fit_transform(X_test)\n",
    "\n",
    "regressor = LinearRegression()\n",
    "regressor.fit(X_train_poly, y_train)\n",
    "\n",
    "y_predict_poly = regressor.predict(X_test_poly)\n",
    "\n",
    "# graph comparison of train and test\n",
    "plt.scatter(y_predict_poly, y_test, color='black')\n",
    "x = np.linspace(-40, 80)\n",
    "plt.plot(x, x, color='red')\n",
    "\n",
    "# get accuracies\n",
    "print(\"Training Accuracy: \", regressor.score(X_train_poly, y_train))\n",
    "print(\"Test Accuracy: \", regressor.score(X_test_poly, y_test))\n",
    "\n",
    "# get metrics\n",
    "print('MSE', mean_squared_error(y_test, y_predict_poly))\n",
    "print('R2', r2_score(y_test, y_predict_poly))"
   ]
  }
 ],
 "metadata": {
  "kernelspec": {
   "display_name": "Python 3.9.7 ('base')",
   "language": "python",
   "name": "python3"
  },
  "language_info": {
   "codemirror_mode": {
    "name": "ipython",
    "version": 3
   },
   "file_extension": ".py",
   "mimetype": "text/x-python",
   "name": "python",
   "nbconvert_exporter": "python",
   "pygments_lexer": "ipython3",
   "version": "3.9.7"
  },
  "orig_nbformat": 4,
  "vscode": {
   "interpreter": {
    "hash": "ef7bd4398818c2e4eda4b9f23f7a27d6051fbfcd0b082a5cc820c3c2d9dacc86"
   }
  }
 },
 "nbformat": 4,
 "nbformat_minor": 2
}
